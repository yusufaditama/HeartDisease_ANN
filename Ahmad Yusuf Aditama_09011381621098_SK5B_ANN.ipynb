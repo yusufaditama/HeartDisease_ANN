{
 "cells": [
  {
   "cell_type": "markdown",
   "metadata": {},
   "source": [
    "#### Nama: Ahmad Yusuf Aditama\n",
    "#### NIM: 09011381621098\n",
    "#### Kelas: SK5B"
   ]
  },
  {
   "cell_type": "markdown",
   "metadata": {},
   "source": [
    "### Heart Disease"
   ]
  },
  {
   "attachments": {
    "PRinc_rm_arteriogram_of_healthy_heart.jpg": {
     "image/jpeg": "[encoded data removed]"
    }
   },
   "cell_type": "markdown",
   "metadata": {},
   "source": [
    "![PRinc_rm_arteriogram_of_healthy_heart.jpg](attachment:PRinc_rm_arteriogram_of_healthy_heart.jpg)\n",
    "\n",
    "Heart Disease atau Penyakit jantung, adalah berbagai kondisi di mana terjadi penyempitan atau penyumbatan pembuluh darah yang dapat menyebabkan serangan jantung, nyeri dada, atau stroke.\n",
    "\n",
    "Beberapa faktor yang dapat mempengaruhi penyakit jantung adalah:\n",
    "\n",
    "    1) Semakin tua usia akan arteri semakin menyempit dan rapuh;\n",
    "    2) Pria lebih memiliki risiko terkena penyakit jantung daripada wanita.\n",
    "    3) Apabila ada anggota keluarga yang menderita gangguan jantung, maka risikonya meningkat.\n",
    "    4) Rokok dapat menyebabkan penyempitan arteri dan carbon monoxit menyebabkan kerusakan vaskular.\n",
    "    5) Memiliki riwayat tekanan darah tinggi, kadarlemak darah yang tinggi.\n",
    "    6) Memiliki trauma mental atau stres psikologis pada jangka waktu panjang.\n"
   ]
  },
  {
   "cell_type": "markdown",
   "metadata": {},
   "source": [
    "## Dataset"
   ]
  },
  {
   "cell_type": "markdown",
   "metadata": {},
   "source": [
    "#### Informasi Dataset\n",
    "Dataset ini telah dikumpuklan oleh Cleveland Clinic Foundation di Switzerlandia. Dataset yang digunakan dalam proyek ini berisi 14 feature dari Cleveland Clinic Foundation untuk penyakit jantung. Dataset menunjukkan tingkat penyakit jantung yang berbeda dari 1 dan 0 untuk tidak adanya penyakit. Dataset ini memiliki 303 baris data dengan 13 pengamatan terus menerus dari gejala yang berbeda."
   ]
  },
  {
   "cell_type": "markdown",
   "metadata": {},
   "source": [
    "#### Atribut Dataset\n",
    "1. Age\n",
    "2. Sex\n",
    "3. ChestPain\n",
    "4. RestBP\n",
    "5. Chol\n",
    "6. Fbs\n",
    "7. RestECG\n",
    "8. MaxHR\n",
    "9. ExAng\n",
    "10. Oldpeak\n",
    "11. Slope\n",
    "12. Ca\n",
    "13. Thal\n",
    "14. AHD"
   ]
  },
  {
   "cell_type": "markdown",
   "metadata": {},
   "source": [
    "## Library"
   ]
  },
  {
   "cell_type": "markdown",
   "metadata": {},
   "source": [
    "#### 1. Numpy\n",
    "Digunakan untuk mengolah data yang berupa angka."
   ]
  },
  {
   "cell_type": "raw",
   "metadata": {},
   "source": [
    "import numpy as np"
   ]
  },
  {
   "cell_type": "markdown",
   "metadata": {},
   "source": [
    "#### 2. Pandas\n",
    "Digunakan untuk membaca data file .csv"
   ]
  },
  {
   "cell_type": "raw",
   "metadata": {},
   "source": [
    "import pandas as pd"
   ]
  },
  {
   "cell_type": "markdown",
   "metadata": {},
   "source": [
    "#### 3. Preprocessing\n",
    "Preprocessing disini digunakan untuk mengubah data menjadi format yang akan lebih mudah dan efektif diproses dalam jaringan saraf."
   ]
  },
  {
   "cell_type": "raw",
   "metadata": {},
   "source": [
    "from sklearn.preprocessing import MinMaxScaler"
   ]
  },
  {
   "cell_type": "markdown",
   "metadata": {},
   "source": [
    "#### 4. Categorical\n",
    "Berfungsi untuk mengkonversi data binary menjadi data yang dapat dikelompokkan, sehingga data tersebut dapat digunakan sebagai confusion matrix."
   ]
  },
  {
   "cell_type": "raw",
   "metadata": {},
   "source": [
    "from keras.utils.np_utils import to_categorical"
   ]
  },
  {
   "cell_type": "markdown",
   "metadata": {},
   "source": [
    "#### 5. Confusion Matriks\n",
    "Merupakan salah satu metode yang dapat digunakan untuk mengukur kinerja suatu metode klasifikasi."
   ]
  },
  {
   "cell_type": "raw",
   "metadata": {},
   "source": [
    "from sklearn.metrics import confusion_matrix"
   ]
  },
  {
   "cell_type": "markdown",
   "metadata": {},
   "source": [
    "#### 6. Model & Layer\n",
    "Model disini digunakan untuk membuat hidden layer dan untuk menggunakannya digunakanlah Library Sequential.  Sedangkan layer, menggunakan Dense yang akan melakukan training data."
   ]
  },
  {
   "cell_type": "raw",
   "metadata": {},
   "source": [
    "from keras.models import Sequential\n",
    "from keras.layers import Dense, Activation"
   ]
  },
  {
   "cell_type": "markdown",
   "metadata": {},
   "source": [
    "#### 7. Matplotlib\n",
    "Digunakan untuk menampilkan hasil dan proses dari pemodelan, yang hasilnya nanti akan berupa grafik."
   ]
  },
  {
   "cell_type": "raw",
   "metadata": {},
   "source": [
    "import matplotlib.pyplot as plt"
   ]
  },
  {
   "cell_type": "code",
   "execution_count": 1,
   "metadata": {},
   "outputs": [
    {
     "name": "stderr",
     "output_type": "stream",
     "text": [
      "Using TensorFlow backend.\n"
     ]
    }
   ],
   "source": [
    "import numpy as np\n",
    "import pandas as pd\n",
    "from sklearn.model_selection import train_test_split\n",
    "from keras.models import Sequential\n",
    "from keras.layers import Dense, Activation\n",
    "import matplotlib.pyplot as plt\n",
    "from sklearn.preprocessing import MinMaxScaler\n",
    "\n",
    "scaler= MinMaxScaler()"
   ]
  },
  {
   "cell_type": "markdown",
   "metadata": {},
   "source": [
    "## Import Dataset"
   ]
  },
  {
   "cell_type": "code",
   "execution_count": 2,
   "metadata": {},
   "outputs": [],
   "source": [
    "dataset = np.loadtxt(\"heart_disease.csv\", delimiter=\",\")"
   ]
  },
  {
   "cell_type": "code",
   "execution_count": 3,
   "metadata": {
    "scrolled": false
   },
   "outputs": [
    {
     "data": {
      "text/plain": [
       "array([[63.,  1.,  3., ...,  0.,  1.,  1.],\n",
       "       [37.,  1.,  2., ...,  0.,  2.,  1.],\n",
       "       [41.,  0.,  1., ...,  0.,  2.,  1.],\n",
       "       ...,\n",
       "       [68.,  1.,  0., ...,  2.,  3.,  0.],\n",
       "       [57.,  1.,  0., ...,  1.,  3.,  0.],\n",
       "       [57.,  0.,  1., ...,  1.,  2.,  0.]])"
      ]
     },
     "execution_count": 3,
     "metadata": {},
     "output_type": "execute_result"
    }
   ],
   "source": [
    "dataset"
   ]
  },
  {
   "cell_type": "markdown",
   "metadata": {},
   "source": [
    "## Set data dan Target\n",
    "Set data untuk feature yaitu kolom 1-13, dan kolom 14 sebagai target."
   ]
  },
  {
   "cell_type": "code",
   "execution_count": 4,
   "metadata": {},
   "outputs": [],
   "source": [
    "X = dataset[:,0:13]\n",
    "Y = dataset[:,13]"
   ]
  },
  {
   "cell_type": "markdown",
   "metadata": {},
   "source": [
    "## Scaling\n",
    "Agar data tak memiliki standar deviasi yang tinggi, maka selanjutnya akan discaling, dimana nilai max adalah 1 dan minimal adalah 0"
   ]
  },
  {
   "cell_type": "code",
   "execution_count": 5,
   "metadata": {},
   "outputs": [
    {
     "data": {
      "text/plain": [
       "(303, 13)"
      ]
     },
     "execution_count": 5,
     "metadata": {},
     "output_type": "execute_result"
    }
   ],
   "source": [
    "X_scaled=scaler.fit_transform(X)\n",
    "X_scaled.shape"
   ]
  },
  {
   "cell_type": "markdown",
   "metadata": {},
   "source": [
    "## Categorical\n",
    "Untuk membuat confusion matrix, diubahlah data yang awalnya binary menjadi categorical. Pada proses ini, library yang digunakan akan memilah kategori yang telah ada."
   ]
  },
  {
   "cell_type": "code",
   "execution_count": 6,
   "metadata": {},
   "outputs": [],
   "source": [
    "from keras.utils.np_utils import to_categorical\n",
    "label_categorical=to_categorical(Y)"
   ]
  },
  {
   "cell_type": "code",
   "execution_count": 7,
   "metadata": {},
   "outputs": [
    {
     "data": {
      "text/plain": [
       "(303, 2)"
      ]
     },
     "execution_count": 7,
     "metadata": {},
     "output_type": "execute_result"
    }
   ],
   "source": [
    "label_categorical.shape"
   ]
  },
  {
   "cell_type": "markdown",
   "metadata": {},
   "source": [
    "## Splitting\n",
    "Data yang ada akan dibagi secara acak, dengan persentase 80% untuk data yang akan di training, dan 20% untuk data yang akan di testing"
   ]
  },
  {
   "cell_type": "code",
   "execution_count": 8,
   "metadata": {},
   "outputs": [],
   "source": [
    "data_training, data_testing, target_training, target_testing = train_test_split(X_scaled, Y, test_size=0.2, \n",
    "                                                                                random_state=42)"
   ]
  },
  {
   "cell_type": "markdown",
   "metadata": {},
   "source": [
    "## Modelling\n",
    "Disini, saya menggunakan 3 layer dengan masing-masing masing-masing:\n",
    "     1. Input 1 layer = 15 units Neural Network, 13 dimensi input, 2 activation relu.\n",
    "     2. Output 1 layer = 1 unit Neural Network dengan menggunakan activation sigmoid"
   ]
  },
  {
   "cell_type": "code",
   "execution_count": 9,
   "metadata": {},
   "outputs": [],
   "source": [
    "# create model\n",
    "model = Sequential()\n",
    "model.add(Dense(3, input_dim=13, activation='relu'))\n",
    "model.add(Dense(3, input_dim=13, activation='sigmoid'))\n",
    "model.add(Dense(1, activation='sigmoid'))"
   ]
  },
  {
   "cell_type": "markdown",
   "metadata": {},
   "source": [
    "## Compile Data\n",
    "Setelah dilakukan proses pemodelan, selanjutnya model tersebut di-compile sehingga menjadi Hidden Layer. Disini, digunakan loss MSE (Mean Square Error), dan metric Akurasi sebagai parameternya"
   ]
  },
  {
   "cell_type": "code",
   "execution_count": 10,
   "metadata": {},
   "outputs": [],
   "source": [
    "model.compile(optimizer='adam', loss='mse', metrics=['accuracy'])"
   ]
  },
  {
   "cell_type": "markdown",
   "metadata": {},
   "source": [
    "##  Fit\n",
    "Pada fungsi Fit ini, akan menghasilkan akurasi dan loss dari dataset Heart Disease. Proses pada training ini adalah:\n",
    "1. Training data\n",
    "2. Data validasi yaitu variabel data_testing dan target_testing\n",
    "3. Banyaknya Epochs"
   ]
  },
  {
   "cell_type": "code",
   "execution_count": 11,
   "metadata": {},
   "outputs": [
    {
     "name": "stdout",
     "output_type": "stream",
     "text": [
      "Train on 242 samples, validate on 61 samples\n",
      "Epoch 1/260\n",
      "242/242 [==============================] - 0s 979us/step - loss: 0.3204 - acc: 0.4504 - val_loss: 0.3072 - val_acc: 0.4754\n",
      "Epoch 2/260\n",
      "242/242 [==============================] - 0s 58us/step - loss: 0.3164 - acc: 0.4504 - val_loss: 0.3036 - val_acc: 0.4754\n",
      "Epoch 3/260\n",
      "242/242 [==============================] - 0s 66us/step - loss: 0.3126 - acc: 0.4504 - val_loss: 0.3001 - val_acc: 0.4754\n",
      "Epoch 4/260\n",
      "242/242 [==============================] - 0s 66us/step - loss: 0.3087 - acc: 0.4504 - val_loss: 0.2966 - val_acc: 0.4754\n",
      "Epoch 5/260\n",
      "242/242 [==============================] - 0s 50us/step - loss: 0.3049 - acc: 0.4504 - val_loss: 0.2931 - val_acc: 0.4754\n",
      "Epoch 6/260\n",
      "242/242 [==============================] - 0s 54us/step - loss: 0.3015 - acc: 0.4504 - val_loss: 0.2896 - val_acc: 0.4754\n",
      "Epoch 7/260\n",
      "242/242 [==============================] - 0s 58us/step - loss: 0.2978 - acc: 0.4504 - val_loss: 0.2862 - val_acc: 0.4754\n",
      "Epoch 8/260\n",
      "242/242 [==============================] - 0s 62us/step - loss: 0.2939 - acc: 0.4504 - val_loss: 0.2828 - val_acc: 0.4754\n",
      "Epoch 9/260\n",
      "242/242 [==============================] - 0s 54us/step - loss: 0.2903 - acc: 0.4504 - val_loss: 0.2795 - val_acc: 0.4754\n",
      "Epoch 10/260\n",
      "242/242 [==============================] - 0s 54us/step - loss: 0.2868 - acc: 0.4504 - val_loss: 0.2764 - val_acc: 0.4754\n",
      "Epoch 11/260\n",
      "242/242 [==============================] - 0s 66us/step - loss: 0.2836 - acc: 0.4504 - val_loss: 0.2733 - val_acc: 0.4754\n",
      "Epoch 12/260\n",
      "242/242 [==============================] - 0s 66us/step - loss: 0.2803 - acc: 0.4504 - val_loss: 0.2703 - val_acc: 0.4754\n",
      "Epoch 13/260\n",
      "242/242 [==============================] - 0s 58us/step - loss: 0.2770 - acc: 0.4504 - val_loss: 0.2674 - val_acc: 0.4754\n",
      "Epoch 14/260\n",
      "242/242 [==============================] - 0s 50us/step - loss: 0.2739 - acc: 0.4504 - val_loss: 0.2646 - val_acc: 0.4754\n",
      "Epoch 15/260\n",
      "242/242 [==============================] - 0s 54us/step - loss: 0.2710 - acc: 0.4504 - val_loss: 0.2619 - val_acc: 0.4754\n",
      "Epoch 16/260\n",
      "242/242 [==============================] - 0s 45us/step - loss: 0.2681 - acc: 0.4504 - val_loss: 0.2595 - val_acc: 0.4754\n",
      "Epoch 17/260\n",
      "242/242 [==============================] - 0s 62us/step - loss: 0.2653 - acc: 0.4504 - val_loss: 0.2573 - val_acc: 0.4754\n",
      "Epoch 18/260\n",
      "242/242 [==============================] - 0s 78us/step - loss: 0.2628 - acc: 0.4504 - val_loss: 0.2550 - val_acc: 0.4754\n",
      "Epoch 19/260\n",
      "242/242 [==============================] - 0s 74us/step - loss: 0.2605 - acc: 0.4504 - val_loss: 0.2527 - val_acc: 0.4754\n",
      "Epoch 20/260\n",
      "242/242 [==============================] - 0s 50us/step - loss: 0.2578 - acc: 0.4504 - val_loss: 0.2508 - val_acc: 0.4754\n",
      "Epoch 21/260\n",
      "242/242 [==============================] - 0s 66us/step - loss: 0.2555 - acc: 0.4504 - val_loss: 0.2489 - val_acc: 0.4754\n",
      "Epoch 22/260\n",
      "242/242 [==============================] - 0s 45us/step - loss: 0.2534 - acc: 0.4504 - val_loss: 0.2470 - val_acc: 0.4754\n",
      "Epoch 23/260\n",
      "242/242 [==============================] - 0s 54us/step - loss: 0.2514 - acc: 0.4504 - val_loss: 0.2453 - val_acc: 0.4754\n",
      "Epoch 24/260\n",
      "242/242 [==============================] - 0s 50us/step - loss: 0.2493 - acc: 0.4504 - val_loss: 0.2437 - val_acc: 0.4754\n",
      "Epoch 25/260\n",
      "242/242 [==============================] - 0s 45us/step - loss: 0.2477 - acc: 0.4504 - val_loss: 0.2420 - val_acc: 0.4754\n",
      "Epoch 26/260\n",
      "242/242 [==============================] - 0s 58us/step - loss: 0.2459 - acc: 0.4504 - val_loss: 0.2405 - val_acc: 0.4754\n",
      "Epoch 27/260\n",
      "242/242 [==============================] - 0s 54us/step - loss: 0.2441 - acc: 0.4504 - val_loss: 0.2391 - val_acc: 0.4754\n",
      "Epoch 28/260\n",
      "242/242 [==============================] - 0s 62us/step - loss: 0.2425 - acc: 0.4504 - val_loss: 0.2377 - val_acc: 0.4754\n",
      "Epoch 29/260\n",
      "242/242 [==============================] - 0s 54us/step - loss: 0.2411 - acc: 0.4504 - val_loss: 0.2364 - val_acc: 0.4754\n",
      "Epoch 30/260\n",
      "242/242 [==============================] - 0s 50us/step - loss: 0.2396 - acc: 0.4545 - val_loss: 0.2350 - val_acc: 0.4754\n",
      "Epoch 31/260\n",
      "242/242 [==============================] - 0s 50us/step - loss: 0.2381 - acc: 0.4669 - val_loss: 0.2337 - val_acc: 0.4754\n",
      "Epoch 32/260\n",
      "242/242 [==============================] - 0s 66us/step - loss: 0.2368 - acc: 0.4752 - val_loss: 0.2324 - val_acc: 0.4918\n",
      "Epoch 33/260\n",
      "242/242 [==============================] - 0s 54us/step - loss: 0.2355 - acc: 0.4835 - val_loss: 0.2312 - val_acc: 0.5082\n",
      "Epoch 34/260\n",
      "242/242 [==============================] - 0s 83us/step - loss: 0.2341 - acc: 0.5165 - val_loss: 0.2300 - val_acc: 0.5574\n",
      "Epoch 35/260\n",
      "242/242 [==============================] - 0s 50us/step - loss: 0.2329 - acc: 0.5537 - val_loss: 0.2287 - val_acc: 0.5902\n",
      "Epoch 36/260\n",
      "242/242 [==============================] - 0s 54us/step - loss: 0.2316 - acc: 0.5620 - val_loss: 0.2275 - val_acc: 0.6230\n",
      "Epoch 37/260\n",
      "242/242 [==============================] - 0s 66us/step - loss: 0.2304 - acc: 0.5702 - val_loss: 0.2264 - val_acc: 0.6230\n",
      "Epoch 38/260\n",
      "242/242 [==============================] - 0s 50us/step - loss: 0.2292 - acc: 0.5950 - val_loss: 0.2252 - val_acc: 0.6066\n",
      "Epoch 39/260\n",
      "242/242 [==============================] - 0s 45us/step - loss: 0.2281 - acc: 0.6116 - val_loss: 0.2240 - val_acc: 0.5902\n",
      "Epoch 40/260\n",
      "242/242 [==============================] - 0s 54us/step - loss: 0.2269 - acc: 0.6198 - val_loss: 0.2229 - val_acc: 0.6230\n",
      "Epoch 41/260\n",
      "242/242 [==============================] - 0s 54us/step - loss: 0.2257 - acc: 0.6488 - val_loss: 0.2217 - val_acc: 0.6230\n",
      "Epoch 42/260\n",
      "242/242 [==============================] - 0s 54us/step - loss: 0.2246 - acc: 0.6612 - val_loss: 0.2206 - val_acc: 0.6885\n",
      "Epoch 43/260\n",
      "242/242 [==============================] - 0s 45us/step - loss: 0.2234 - acc: 0.6777 - val_loss: 0.2194 - val_acc: 0.6885\n",
      "Epoch 44/260\n",
      "242/242 [==============================] - 0s 45us/step - loss: 0.2224 - acc: 0.6860 - val_loss: 0.2183 - val_acc: 0.6885\n",
      "Epoch 45/260\n",
      "242/242 [==============================] - 0s 45us/step - loss: 0.2212 - acc: 0.7025 - val_loss: 0.2172 - val_acc: 0.7049\n",
      "Epoch 46/260\n",
      "242/242 [==============================] - 0s 45us/step - loss: 0.2201 - acc: 0.7066 - val_loss: 0.2160 - val_acc: 0.7049\n",
      "Epoch 47/260\n",
      "242/242 [==============================] - 0s 62us/step - loss: 0.2191 - acc: 0.7190 - val_loss: 0.2149 - val_acc: 0.7213\n",
      "Epoch 48/260\n",
      "242/242 [==============================] - 0s 62us/step - loss: 0.2180 - acc: 0.7190 - val_loss: 0.2138 - val_acc: 0.7213\n",
      "Epoch 49/260\n",
      "242/242 [==============================] - 0s 54us/step - loss: 0.2169 - acc: 0.7190 - val_loss: 0.2128 - val_acc: 0.7541\n",
      "Epoch 50/260\n",
      "242/242 [==============================] - 0s 66us/step - loss: 0.2159 - acc: 0.7355 - val_loss: 0.2117 - val_acc: 0.7541\n",
      "Epoch 51/260\n",
      "242/242 [==============================] - 0s 50us/step - loss: 0.2149 - acc: 0.7397 - val_loss: 0.2106 - val_acc: 0.7541\n",
      "Epoch 52/260\n",
      "242/242 [==============================] - 0s 54us/step - loss: 0.2138 - acc: 0.7438 - val_loss: 0.2096 - val_acc: 0.7541\n",
      "Epoch 53/260\n",
      "242/242 [==============================] - 0s 58us/step - loss: 0.2128 - acc: 0.7479 - val_loss: 0.2086 - val_acc: 0.7541\n",
      "Epoch 54/260\n",
      "242/242 [==============================] - 0s 54us/step - loss: 0.2118 - acc: 0.7479 - val_loss: 0.2076 - val_acc: 0.7541\n",
      "Epoch 55/260\n",
      "242/242 [==============================] - 0s 54us/step - loss: 0.2108 - acc: 0.7562 - val_loss: 0.2066 - val_acc: 0.7541\n",
      "Epoch 56/260\n",
      "242/242 [==============================] - 0s 58us/step - loss: 0.2098 - acc: 0.7603 - val_loss: 0.2056 - val_acc: 0.7705\n",
      "Epoch 57/260\n",
      "242/242 [==============================] - 0s 50us/step - loss: 0.2088 - acc: 0.7645 - val_loss: 0.2045 - val_acc: 0.7705\n",
      "Epoch 58/260\n",
      "242/242 [==============================] - 0s 50us/step - loss: 0.2079 - acc: 0.7686 - val_loss: 0.2035 - val_acc: 0.7705\n",
      "Epoch 59/260\n",
      "242/242 [==============================] - 0s 54us/step - loss: 0.2069 - acc: 0.7727 - val_loss: 0.2026 - val_acc: 0.7705\n",
      "Epoch 60/260\n",
      "242/242 [==============================] - 0s 50us/step - loss: 0.2060 - acc: 0.7727 - val_loss: 0.2016 - val_acc: 0.7705\n",
      "Epoch 61/260\n",
      "242/242 [==============================] - 0s 62us/step - loss: 0.2051 - acc: 0.7727 - val_loss: 0.2006 - val_acc: 0.7705\n",
      "Epoch 62/260\n",
      "242/242 [==============================] - 0s 62us/step - loss: 0.2041 - acc: 0.7727 - val_loss: 0.1996 - val_acc: 0.7705\n",
      "Epoch 63/260\n",
      "242/242 [==============================] - 0s 58us/step - loss: 0.2032 - acc: 0.7769 - val_loss: 0.1987 - val_acc: 0.7705\n",
      "Epoch 64/260\n",
      "242/242 [==============================] - 0s 83us/step - loss: 0.2023 - acc: 0.7727 - val_loss: 0.1977 - val_acc: 0.7705\n",
      "Epoch 65/260\n",
      "242/242 [==============================] - 0s 54us/step - loss: 0.2014 - acc: 0.7686 - val_loss: 0.1968 - val_acc: 0.7705\n",
      "Epoch 66/260\n",
      "242/242 [==============================] - 0s 62us/step - loss: 0.2006 - acc: 0.7686 - val_loss: 0.1959 - val_acc: 0.7705\n",
      "Epoch 67/260\n",
      "242/242 [==============================] - 0s 62us/step - loss: 0.1997 - acc: 0.7686 - val_loss: 0.1951 - val_acc: 0.7705\n",
      "Epoch 68/260\n",
      "242/242 [==============================] - 0s 66us/step - loss: 0.1988 - acc: 0.7686 - val_loss: 0.1942 - val_acc: 0.7705\n",
      "Epoch 69/260\n",
      "242/242 [==============================] - 0s 54us/step - loss: 0.1981 - acc: 0.7686 - val_loss: 0.1934 - val_acc: 0.7705\n",
      "Epoch 70/260\n",
      "242/242 [==============================] - 0s 62us/step - loss: 0.1972 - acc: 0.7686 - val_loss: 0.1925 - val_acc: 0.7705\n",
      "Epoch 71/260\n",
      "242/242 [==============================] - 0s 62us/step - loss: 0.1963 - acc: 0.7727 - val_loss: 0.1916 - val_acc: 0.7705\n",
      "Epoch 72/260\n",
      "242/242 [==============================] - 0s 78us/step - loss: 0.1955 - acc: 0.7727 - val_loss: 0.1907 - val_acc: 0.7705\n",
      "Epoch 73/260\n",
      "242/242 [==============================] - 0s 74us/step - loss: 0.1947 - acc: 0.7727 - val_loss: 0.1898 - val_acc: 0.7705\n",
      "Epoch 74/260\n",
      "242/242 [==============================] - 0s 83us/step - loss: 0.1939 - acc: 0.7810 - val_loss: 0.1889 - val_acc: 0.7705\n",
      "Epoch 75/260\n",
      "242/242 [==============================] - 0s 62us/step - loss: 0.1931 - acc: 0.7810 - val_loss: 0.1881 - val_acc: 0.7705\n",
      "Epoch 76/260\n",
      "242/242 [==============================] - 0s 74us/step - loss: 0.1924 - acc: 0.7810 - val_loss: 0.1871 - val_acc: 0.7869\n",
      "Epoch 77/260\n",
      "242/242 [==============================] - 0s 62us/step - loss: 0.1916 - acc: 0.7686 - val_loss: 0.1862 - val_acc: 0.7869\n",
      "Epoch 78/260\n",
      "242/242 [==============================] - 0s 70us/step - loss: 0.1908 - acc: 0.7686 - val_loss: 0.1855 - val_acc: 0.7869\n",
      "Epoch 79/260\n",
      "242/242 [==============================] - 0s 78us/step - loss: 0.1901 - acc: 0.7686 - val_loss: 0.1847 - val_acc: 0.7869\n",
      "Epoch 80/260\n",
      "242/242 [==============================] - 0s 74us/step - loss: 0.1893 - acc: 0.7727 - val_loss: 0.1840 - val_acc: 0.7869\n",
      "Epoch 81/260\n",
      "242/242 [==============================] - 0s 74us/step - loss: 0.1886 - acc: 0.7810 - val_loss: 0.1831 - val_acc: 0.8033\n",
      "Epoch 82/260\n",
      "242/242 [==============================] - 0s 54us/step - loss: 0.1879 - acc: 0.7769 - val_loss: 0.1822 - val_acc: 0.8033\n",
      "Epoch 83/260\n",
      "242/242 [==============================] - 0s 62us/step - loss: 0.1872 - acc: 0.7810 - val_loss: 0.1814 - val_acc: 0.8033\n",
      "Epoch 84/260\n",
      "242/242 [==============================] - 0s 54us/step - loss: 0.1864 - acc: 0.7810 - val_loss: 0.1806 - val_acc: 0.8033\n",
      "Epoch 85/260\n",
      "242/242 [==============================] - 0s 66us/step - loss: 0.1857 - acc: 0.7769 - val_loss: 0.1800 - val_acc: 0.8033\n",
      "Epoch 86/260\n",
      "242/242 [==============================] - 0s 50us/step - loss: 0.1850 - acc: 0.7769 - val_loss: 0.1793 - val_acc: 0.8033\n",
      "Epoch 87/260\n",
      "242/242 [==============================] - 0s 66us/step - loss: 0.1844 - acc: 0.7810 - val_loss: 0.1785 - val_acc: 0.8033\n",
      "Epoch 88/260\n",
      "242/242 [==============================] - 0s 58us/step - loss: 0.1836 - acc: 0.7769 - val_loss: 0.1778 - val_acc: 0.8033\n",
      "Epoch 89/260\n",
      "242/242 [==============================] - 0s 50us/step - loss: 0.1830 - acc: 0.7769 - val_loss: 0.1770 - val_acc: 0.8033\n",
      "Epoch 90/260\n",
      "242/242 [==============================] - 0s 58us/step - loss: 0.1823 - acc: 0.7769 - val_loss: 0.1763 - val_acc: 0.8033\n",
      "Epoch 91/260\n",
      "242/242 [==============================] - 0s 62us/step - loss: 0.1816 - acc: 0.7769 - val_loss: 0.1756 - val_acc: 0.8033\n",
      "Epoch 92/260\n",
      "242/242 [==============================] - 0s 66us/step - loss: 0.1809 - acc: 0.7769 - val_loss: 0.1748 - val_acc: 0.8033\n",
      "Epoch 93/260\n",
      "242/242 [==============================] - 0s 45us/step - loss: 0.1803 - acc: 0.7769 - val_loss: 0.1741 - val_acc: 0.8033\n",
      "Epoch 94/260\n",
      "242/242 [==============================] - 0s 66us/step - loss: 0.1797 - acc: 0.7769 - val_loss: 0.1735 - val_acc: 0.8033\n",
      "Epoch 95/260\n",
      "242/242 [==============================] - 0s 58us/step - loss: 0.1790 - acc: 0.7769 - val_loss: 0.1728 - val_acc: 0.8033\n",
      "Epoch 96/260\n",
      "242/242 [==============================] - 0s 58us/step - loss: 0.1784 - acc: 0.7769 - val_loss: 0.1721 - val_acc: 0.8033\n",
      "Epoch 97/260\n",
      "242/242 [==============================] - 0s 50us/step - loss: 0.1777 - acc: 0.7769 - val_loss: 0.1714 - val_acc: 0.8033\n",
      "Epoch 98/260\n",
      "242/242 [==============================] - 0s 58us/step - loss: 0.1771 - acc: 0.7769 - val_loss: 0.1706 - val_acc: 0.8033\n",
      "Epoch 99/260\n",
      "242/242 [==============================] - 0s 66us/step - loss: 0.1765 - acc: 0.7769 - val_loss: 0.1700 - val_acc: 0.8033\n",
      "Epoch 100/260\n",
      "242/242 [==============================] - 0s 70us/step - loss: 0.1759 - acc: 0.7769 - val_loss: 0.1695 - val_acc: 0.8033\n",
      "Epoch 101/260\n",
      "242/242 [==============================] - 0s 54us/step - loss: 0.1753 - acc: 0.7769 - val_loss: 0.1686 - val_acc: 0.8197\n",
      "Epoch 102/260\n",
      "242/242 [==============================] - 0s 58us/step - loss: 0.1747 - acc: 0.7769 - val_loss: 0.1679 - val_acc: 0.8197\n",
      "Epoch 103/260\n",
      "242/242 [==============================] - 0s 50us/step - loss: 0.1742 - acc: 0.7769 - val_loss: 0.1671 - val_acc: 0.8197\n",
      "Epoch 104/260\n",
      "242/242 [==============================] - 0s 54us/step - loss: 0.1735 - acc: 0.7810 - val_loss: 0.1664 - val_acc: 0.8197\n",
      "Epoch 105/260\n",
      "242/242 [==============================] - 0s 54us/step - loss: 0.1730 - acc: 0.7934 - val_loss: 0.1658 - val_acc: 0.8197\n",
      "Epoch 106/260\n",
      "242/242 [==============================] - 0s 66us/step - loss: 0.1724 - acc: 0.7893 - val_loss: 0.1652 - val_acc: 0.8197\n",
      "Epoch 107/260\n",
      "242/242 [==============================] - 0s 62us/step - loss: 0.1718 - acc: 0.7934 - val_loss: 0.1644 - val_acc: 0.8361\n",
      "Epoch 108/260\n",
      "242/242 [==============================] - 0s 58us/step - loss: 0.1712 - acc: 0.7934 - val_loss: 0.1638 - val_acc: 0.8361\n",
      "Epoch 109/260\n",
      "242/242 [==============================] - 0s 58us/step - loss: 0.1707 - acc: 0.7934 - val_loss: 0.1633 - val_acc: 0.8197\n",
      "Epoch 110/260\n",
      "242/242 [==============================] - 0s 66us/step - loss: 0.1701 - acc: 0.7934 - val_loss: 0.1626 - val_acc: 0.8197\n",
      "Epoch 111/260\n",
      "242/242 [==============================] - 0s 58us/step - loss: 0.1696 - acc: 0.7934 - val_loss: 0.1621 - val_acc: 0.8197\n",
      "Epoch 112/260\n",
      "242/242 [==============================] - 0s 54us/step - loss: 0.1690 - acc: 0.7934 - val_loss: 0.1615 - val_acc: 0.8197\n",
      "Epoch 113/260\n",
      "242/242 [==============================] - 0s 70us/step - loss: 0.1685 - acc: 0.7934 - val_loss: 0.1609 - val_acc: 0.8197\n",
      "Epoch 114/260\n",
      "242/242 [==============================] - 0s 58us/step - loss: 0.1680 - acc: 0.7975 - val_loss: 0.1605 - val_acc: 0.8197\n",
      "Epoch 115/260\n",
      "242/242 [==============================] - 0s 58us/step - loss: 0.1674 - acc: 0.7975 - val_loss: 0.1599 - val_acc: 0.8197\n",
      "Epoch 116/260\n",
      "242/242 [==============================] - 0s 70us/step - loss: 0.1669 - acc: 0.7975 - val_loss: 0.1594 - val_acc: 0.8197\n",
      "Epoch 117/260\n",
      "242/242 [==============================] - 0s 62us/step - loss: 0.1664 - acc: 0.7975 - val_loss: 0.1590 - val_acc: 0.8197\n",
      "Epoch 118/260\n",
      "242/242 [==============================] - 0s 66us/step - loss: 0.1660 - acc: 0.7975 - val_loss: 0.1588 - val_acc: 0.8197\n",
      "Epoch 119/260\n",
      "242/242 [==============================] - 0s 62us/step - loss: 0.1654 - acc: 0.7975 - val_loss: 0.1578 - val_acc: 0.8197\n",
      "Epoch 120/260\n",
      "242/242 [==============================] - 0s 66us/step - loss: 0.1649 - acc: 0.7975 - val_loss: 0.1569 - val_acc: 0.8197\n",
      "Epoch 121/260\n"
     ]
    },
    {
     "name": "stdout",
     "output_type": "stream",
     "text": [
      "242/242 [==============================] - 0s 78us/step - loss: 0.1644 - acc: 0.7975 - val_loss: 0.1563 - val_acc: 0.8361\n",
      "Epoch 122/260\n",
      "242/242 [==============================] - 0s 66us/step - loss: 0.1640 - acc: 0.8017 - val_loss: 0.1554 - val_acc: 0.8361\n",
      "Epoch 123/260\n",
      "242/242 [==============================] - 0s 54us/step - loss: 0.1635 - acc: 0.7934 - val_loss: 0.1552 - val_acc: 0.8361\n",
      "Epoch 124/260\n",
      "242/242 [==============================] - 0s 54us/step - loss: 0.1631 - acc: 0.7975 - val_loss: 0.1548 - val_acc: 0.8197\n",
      "Epoch 125/260\n",
      "242/242 [==============================] - 0s 58us/step - loss: 0.1625 - acc: 0.8017 - val_loss: 0.1539 - val_acc: 0.8361\n",
      "Epoch 126/260\n",
      "242/242 [==============================] - 0s 95us/step - loss: 0.1621 - acc: 0.7934 - val_loss: 0.1533 - val_acc: 0.8525\n",
      "Epoch 127/260\n",
      "242/242 [==============================] - 0s 70us/step - loss: 0.1615 - acc: 0.7975 - val_loss: 0.1531 - val_acc: 0.8361\n",
      "Epoch 128/260\n",
      "242/242 [==============================] - 0s 74us/step - loss: 0.1611 - acc: 0.8017 - val_loss: 0.1527 - val_acc: 0.8361\n",
      "Epoch 129/260\n",
      "242/242 [==============================] - 0s 66us/step - loss: 0.1607 - acc: 0.8017 - val_loss: 0.1521 - val_acc: 0.8525\n",
      "Epoch 130/260\n",
      "242/242 [==============================] - 0s 78us/step - loss: 0.1602 - acc: 0.8017 - val_loss: 0.1518 - val_acc: 0.8197\n",
      "Epoch 131/260\n",
      "242/242 [==============================] - 0s 74us/step - loss: 0.1599 - acc: 0.8017 - val_loss: 0.1516 - val_acc: 0.8197\n",
      "Epoch 132/260\n",
      "242/242 [==============================] - 0s 66us/step - loss: 0.1594 - acc: 0.8058 - val_loss: 0.1509 - val_acc: 0.8361\n",
      "Epoch 133/260\n",
      "242/242 [==============================] - 0s 70us/step - loss: 0.1589 - acc: 0.8017 - val_loss: 0.1503 - val_acc: 0.8361\n",
      "Epoch 134/260\n",
      "242/242 [==============================] - 0s 83us/step - loss: 0.1585 - acc: 0.8099 - val_loss: 0.1502 - val_acc: 0.8361\n",
      "Epoch 135/260\n",
      "242/242 [==============================] - 0s 78us/step - loss: 0.1581 - acc: 0.8058 - val_loss: 0.1496 - val_acc: 0.8361\n",
      "Epoch 136/260\n",
      "242/242 [==============================] - 0s 78us/step - loss: 0.1576 - acc: 0.8058 - val_loss: 0.1490 - val_acc: 0.8361\n",
      "Epoch 137/260\n",
      "242/242 [==============================] - 0s 70us/step - loss: 0.1572 - acc: 0.8058 - val_loss: 0.1485 - val_acc: 0.8361\n",
      "Epoch 138/260\n",
      "242/242 [==============================] - 0s 74us/step - loss: 0.1568 - acc: 0.8058 - val_loss: 0.1480 - val_acc: 0.8361\n",
      "Epoch 139/260\n",
      "242/242 [==============================] - 0s 70us/step - loss: 0.1564 - acc: 0.8058 - val_loss: 0.1477 - val_acc: 0.8361\n",
      "Epoch 140/260\n",
      "242/242 [==============================] - 0s 87us/step - loss: 0.1560 - acc: 0.8099 - val_loss: 0.1475 - val_acc: 0.8361\n",
      "Epoch 141/260\n",
      "242/242 [==============================] - 0s 54us/step - loss: 0.1556 - acc: 0.8099 - val_loss: 0.1473 - val_acc: 0.8361\n",
      "Epoch 142/260\n",
      "242/242 [==============================] - 0s 66us/step - loss: 0.1552 - acc: 0.8140 - val_loss: 0.1471 - val_acc: 0.8361\n",
      "Epoch 143/260\n",
      "242/242 [==============================] - 0s 62us/step - loss: 0.1549 - acc: 0.8140 - val_loss: 0.1469 - val_acc: 0.8361\n",
      "Epoch 144/260\n",
      "242/242 [==============================] - 0s 50us/step - loss: 0.1545 - acc: 0.8140 - val_loss: 0.1463 - val_acc: 0.8361\n",
      "Epoch 145/260\n",
      "242/242 [==============================] - 0s 50us/step - loss: 0.1540 - acc: 0.8140 - val_loss: 0.1458 - val_acc: 0.8361\n",
      "Epoch 146/260\n",
      "242/242 [==============================] - 0s 58us/step - loss: 0.1537 - acc: 0.8140 - val_loss: 0.1452 - val_acc: 0.8361\n",
      "Epoch 147/260\n",
      "242/242 [==============================] - 0s 66us/step - loss: 0.1534 - acc: 0.8140 - val_loss: 0.1449 - val_acc: 0.8361\n",
      "Epoch 148/260\n",
      "242/242 [==============================] - 0s 78us/step - loss: 0.1529 - acc: 0.8140 - val_loss: 0.1442 - val_acc: 0.8361\n",
      "Epoch 149/260\n",
      "242/242 [==============================] - 0s 58us/step - loss: 0.1525 - acc: 0.8140 - val_loss: 0.1438 - val_acc: 0.8361\n",
      "Epoch 150/260\n",
      "242/242 [==============================] - 0s 74us/step - loss: 0.1522 - acc: 0.8140 - val_loss: 0.1434 - val_acc: 0.8361\n",
      "Epoch 151/260\n",
      "242/242 [==============================] - 0s 50us/step - loss: 0.1518 - acc: 0.8182 - val_loss: 0.1430 - val_acc: 0.8361\n",
      "Epoch 152/260\n",
      "242/242 [==============================] - 0s 66us/step - loss: 0.1515 - acc: 0.8182 - val_loss: 0.1428 - val_acc: 0.8525\n",
      "Epoch 153/260\n",
      "242/242 [==============================] - 0s 66us/step - loss: 0.1512 - acc: 0.8182 - val_loss: 0.1427 - val_acc: 0.8525\n",
      "Epoch 154/260\n",
      "242/242 [==============================] - 0s 54us/step - loss: 0.1508 - acc: 0.8223 - val_loss: 0.1420 - val_acc: 0.8525\n",
      "Epoch 155/260\n",
      "242/242 [==============================] - 0s 70us/step - loss: 0.1504 - acc: 0.8223 - val_loss: 0.1416 - val_acc: 0.8525\n",
      "Epoch 156/260\n",
      "242/242 [==============================] - 0s 66us/step - loss: 0.1500 - acc: 0.8223 - val_loss: 0.1413 - val_acc: 0.8525\n",
      "Epoch 157/260\n",
      "242/242 [==============================] - 0s 58us/step - loss: 0.1497 - acc: 0.8223 - val_loss: 0.1410 - val_acc: 0.8525\n",
      "Epoch 158/260\n",
      "242/242 [==============================] - 0s 66us/step - loss: 0.1494 - acc: 0.8223 - val_loss: 0.1409 - val_acc: 0.8525\n",
      "Epoch 159/260\n",
      "242/242 [==============================] - 0s 58us/step - loss: 0.1490 - acc: 0.8223 - val_loss: 0.1402 - val_acc: 0.8525\n",
      "Epoch 160/260\n",
      "242/242 [==============================] - 0s 70us/step - loss: 0.1487 - acc: 0.8223 - val_loss: 0.1401 - val_acc: 0.8525\n",
      "Epoch 161/260\n",
      "242/242 [==============================] - 0s 66us/step - loss: 0.1484 - acc: 0.8182 - val_loss: 0.1401 - val_acc: 0.8525\n",
      "Epoch 162/260\n",
      "242/242 [==============================] - 0s 50us/step - loss: 0.1481 - acc: 0.8223 - val_loss: 0.1393 - val_acc: 0.8525\n",
      "Epoch 163/260\n",
      "242/242 [==============================] - 0s 70us/step - loss: 0.1478 - acc: 0.8182 - val_loss: 0.1397 - val_acc: 0.8525\n",
      "Epoch 164/260\n",
      "242/242 [==============================] - 0s 87us/step - loss: 0.1474 - acc: 0.8264 - val_loss: 0.1391 - val_acc: 0.8525\n",
      "Epoch 165/260\n",
      "242/242 [==============================] - 0s 70us/step - loss: 0.1471 - acc: 0.8223 - val_loss: 0.1387 - val_acc: 0.8525\n",
      "Epoch 166/260\n",
      "242/242 [==============================] - 0s 70us/step - loss: 0.1467 - acc: 0.8182 - val_loss: 0.1381 - val_acc: 0.8525\n",
      "Epoch 167/260\n",
      "242/242 [==============================] - 0s 66us/step - loss: 0.1465 - acc: 0.8182 - val_loss: 0.1378 - val_acc: 0.8525\n",
      "Epoch 168/260\n",
      "242/242 [==============================] - 0s 62us/step - loss: 0.1463 - acc: 0.8223 - val_loss: 0.1371 - val_acc: 0.8525\n",
      "Epoch 169/260\n",
      "242/242 [==============================] - 0s 74us/step - loss: 0.1459 - acc: 0.8223 - val_loss: 0.1372 - val_acc: 0.8525\n",
      "Epoch 170/260\n",
      "242/242 [==============================] - 0s 54us/step - loss: 0.1455 - acc: 0.8264 - val_loss: 0.1373 - val_acc: 0.8525\n",
      "Epoch 171/260\n",
      "242/242 [==============================] - 0s 54us/step - loss: 0.1453 - acc: 0.8264 - val_loss: 0.1377 - val_acc: 0.8525\n",
      "Epoch 172/260\n",
      "242/242 [==============================] - 0s 70us/step - loss: 0.1451 - acc: 0.8264 - val_loss: 0.1378 - val_acc: 0.8525\n",
      "Epoch 173/260\n",
      "242/242 [==============================] - 0s 54us/step - loss: 0.1447 - acc: 0.8264 - val_loss: 0.1378 - val_acc: 0.8525\n",
      "Epoch 174/260\n",
      "242/242 [==============================] - 0s 54us/step - loss: 0.1444 - acc: 0.8264 - val_loss: 0.1373 - val_acc: 0.8525\n",
      "Epoch 175/260\n",
      "242/242 [==============================] - 0s 62us/step - loss: 0.1441 - acc: 0.8264 - val_loss: 0.1367 - val_acc: 0.8525\n",
      "Epoch 176/260\n",
      "242/242 [==============================] - 0s 54us/step - loss: 0.1438 - acc: 0.8223 - val_loss: 0.1363 - val_acc: 0.8525\n",
      "Epoch 177/260\n",
      "242/242 [==============================] - 0s 58us/step - loss: 0.1435 - acc: 0.8223 - val_loss: 0.1360 - val_acc: 0.8525\n",
      "Epoch 178/260\n",
      "242/242 [==============================] - 0s 62us/step - loss: 0.1433 - acc: 0.8223 - val_loss: 0.1354 - val_acc: 0.8525\n",
      "Epoch 179/260\n",
      "242/242 [==============================] - 0s 54us/step - loss: 0.1430 - acc: 0.8223 - val_loss: 0.1351 - val_acc: 0.8525\n",
      "Epoch 180/260\n",
      "242/242 [==============================] - 0s 54us/step - loss: 0.1427 - acc: 0.8223 - val_loss: 0.1350 - val_acc: 0.8525\n",
      "Epoch 181/260\n",
      "242/242 [==============================] - 0s 45us/step - loss: 0.1425 - acc: 0.8223 - val_loss: 0.1353 - val_acc: 0.8525\n",
      "Epoch 182/260\n",
      "242/242 [==============================] - 0s 74us/step - loss: 0.1422 - acc: 0.8264 - val_loss: 0.1347 - val_acc: 0.8525\n",
      "Epoch 183/260\n",
      "242/242 [==============================] - 0s 45us/step - loss: 0.1420 - acc: 0.8223 - val_loss: 0.1349 - val_acc: 0.8525\n",
      "Epoch 184/260\n",
      "242/242 [==============================] - 0s 50us/step - loss: 0.1417 - acc: 0.8264 - val_loss: 0.1345 - val_acc: 0.8525\n",
      "Epoch 185/260\n",
      "242/242 [==============================] - 0s 70us/step - loss: 0.1415 - acc: 0.8223 - val_loss: 0.1340 - val_acc: 0.8525\n",
      "Epoch 186/260\n",
      "242/242 [==============================] - 0s 66us/step - loss: 0.1411 - acc: 0.8264 - val_loss: 0.1341 - val_acc: 0.8525\n",
      "Epoch 187/260\n",
      "242/242 [==============================] - 0s 66us/step - loss: 0.1408 - acc: 0.8264 - val_loss: 0.1340 - val_acc: 0.8525\n",
      "Epoch 188/260\n",
      "242/242 [==============================] - 0s 58us/step - loss: 0.1407 - acc: 0.8264 - val_loss: 0.1342 - val_acc: 0.8525\n",
      "Epoch 189/260\n",
      "242/242 [==============================] - 0s 70us/step - loss: 0.1404 - acc: 0.8264 - val_loss: 0.1334 - val_acc: 0.8525\n",
      "Epoch 190/260\n",
      "242/242 [==============================] - 0s 62us/step - loss: 0.1402 - acc: 0.8264 - val_loss: 0.1336 - val_acc: 0.8525\n",
      "Epoch 191/260\n",
      "242/242 [==============================] - ETA: 0s - loss: 0.1281 - acc: 0.875 - 0s 83us/step - loss: 0.1400 - acc: 0.8264 - val_loss: 0.1338 - val_acc: 0.8525\n",
      "Epoch 192/260\n",
      "242/242 [==============================] - 0s 66us/step - loss: 0.1397 - acc: 0.8264 - val_loss: 0.1330 - val_acc: 0.8525\n",
      "Epoch 193/260\n",
      "242/242 [==============================] - 0s 54us/step - loss: 0.1394 - acc: 0.8264 - val_loss: 0.1325 - val_acc: 0.8525\n",
      "Epoch 194/260\n",
      "242/242 [==============================] - 0s 66us/step - loss: 0.1392 - acc: 0.8264 - val_loss: 0.1319 - val_acc: 0.8525\n",
      "Epoch 195/260\n",
      "242/242 [==============================] - 0s 70us/step - loss: 0.1389 - acc: 0.8264 - val_loss: 0.1321 - val_acc: 0.8525\n",
      "Epoch 196/260\n",
      "242/242 [==============================] - 0s 62us/step - loss: 0.1387 - acc: 0.8264 - val_loss: 0.1319 - val_acc: 0.8525\n",
      "Epoch 197/260\n",
      "242/242 [==============================] - 0s 62us/step - loss: 0.1384 - acc: 0.8264 - val_loss: 0.1317 - val_acc: 0.8525\n",
      "Epoch 198/260\n",
      "242/242 [==============================] - 0s 54us/step - loss: 0.1382 - acc: 0.8264 - val_loss: 0.1316 - val_acc: 0.8525\n",
      "Epoch 199/260\n",
      "242/242 [==============================] - 0s 66us/step - loss: 0.1380 - acc: 0.8264 - val_loss: 0.1314 - val_acc: 0.8525\n",
      "Epoch 200/260\n",
      "242/242 [==============================] - 0s 62us/step - loss: 0.1377 - acc: 0.8264 - val_loss: 0.1316 - val_acc: 0.8525\n",
      "Epoch 201/260\n",
      "242/242 [==============================] - 0s 66us/step - loss: 0.1375 - acc: 0.8264 - val_loss: 0.1316 - val_acc: 0.8525\n",
      "Epoch 202/260\n",
      "242/242 [==============================] - 0s 50us/step - loss: 0.1374 - acc: 0.8306 - val_loss: 0.1307 - val_acc: 0.8525\n",
      "Epoch 203/260\n",
      "242/242 [==============================] - 0s 66us/step - loss: 0.1371 - acc: 0.8306 - val_loss: 0.1308 - val_acc: 0.8525\n",
      "Epoch 204/260\n",
      "242/242 [==============================] - 0s 54us/step - loss: 0.1369 - acc: 0.8306 - val_loss: 0.1307 - val_acc: 0.8525\n",
      "Epoch 205/260\n",
      "242/242 [==============================] - 0s 54us/step - loss: 0.1366 - acc: 0.8306 - val_loss: 0.1304 - val_acc: 0.8525\n",
      "Epoch 206/260\n",
      "242/242 [==============================] - 0s 54us/step - loss: 0.1365 - acc: 0.8306 - val_loss: 0.1302 - val_acc: 0.8525\n",
      "Epoch 207/260\n",
      "242/242 [==============================] - 0s 62us/step - loss: 0.1361 - acc: 0.8306 - val_loss: 0.1306 - val_acc: 0.8525\n",
      "Epoch 208/260\n",
      "242/242 [==============================] - 0s 50us/step - loss: 0.1360 - acc: 0.8347 - val_loss: 0.1311 - val_acc: 0.8525\n",
      "Epoch 209/260\n",
      "242/242 [==============================] - 0s 62us/step - loss: 0.1358 - acc: 0.8347 - val_loss: 0.1305 - val_acc: 0.8525\n",
      "Epoch 210/260\n",
      "242/242 [==============================] - 0s 62us/step - loss: 0.1355 - acc: 0.8347 - val_loss: 0.1304 - val_acc: 0.8525\n",
      "Epoch 211/260\n",
      "242/242 [==============================] - 0s 62us/step - loss: 0.1353 - acc: 0.8347 - val_loss: 0.1304 - val_acc: 0.8525\n",
      "Epoch 212/260\n",
      "242/242 [==============================] - 0s 50us/step - loss: 0.1352 - acc: 0.8347 - val_loss: 0.1297 - val_acc: 0.8525\n",
      "Epoch 213/260\n",
      "242/242 [==============================] - 0s 70us/step - loss: 0.1349 - acc: 0.8347 - val_loss: 0.1298 - val_acc: 0.8525\n",
      "Epoch 214/260\n",
      "242/242 [==============================] - 0s 54us/step - loss: 0.1348 - acc: 0.8347 - val_loss: 0.1299 - val_acc: 0.8525\n",
      "Epoch 215/260\n",
      "242/242 [==============================] - 0s 62us/step - loss: 0.1346 - acc: 0.8347 - val_loss: 0.1303 - val_acc: 0.8361\n",
      "Epoch 216/260\n",
      "242/242 [==============================] - 0s 58us/step - loss: 0.1344 - acc: 0.8347 - val_loss: 0.1299 - val_acc: 0.8525\n",
      "Epoch 217/260\n",
      "242/242 [==============================] - 0s 62us/step - loss: 0.1343 - acc: 0.8388 - val_loss: 0.1301 - val_acc: 0.8361\n",
      "Epoch 218/260\n",
      "242/242 [==============================] - 0s 70us/step - loss: 0.1340 - acc: 0.8430 - val_loss: 0.1294 - val_acc: 0.8525\n",
      "Epoch 219/260\n",
      "242/242 [==============================] - 0s 62us/step - loss: 0.1337 - acc: 0.8388 - val_loss: 0.1292 - val_acc: 0.8525\n",
      "Epoch 220/260\n",
      "242/242 [==============================] - 0s 70us/step - loss: 0.1337 - acc: 0.8388 - val_loss: 0.1293 - val_acc: 0.8525\n",
      "Epoch 221/260\n",
      "242/242 [==============================] - 0s 58us/step - loss: 0.1334 - acc: 0.8430 - val_loss: 0.1285 - val_acc: 0.8525\n",
      "Epoch 222/260\n",
      "242/242 [==============================] - 0s 58us/step - loss: 0.1334 - acc: 0.8430 - val_loss: 0.1278 - val_acc: 0.8525\n",
      "Epoch 223/260\n",
      "242/242 [==============================] - 0s 78us/step - loss: 0.1330 - acc: 0.8430 - val_loss: 0.1280 - val_acc: 0.8525\n",
      "Epoch 224/260\n",
      "242/242 [==============================] - 0s 74us/step - loss: 0.1329 - acc: 0.8430 - val_loss: 0.1288 - val_acc: 0.8525\n",
      "Epoch 225/260\n",
      "242/242 [==============================] - 0s 50us/step - loss: 0.1327 - acc: 0.8471 - val_loss: 0.1290 - val_acc: 0.8525\n",
      "Epoch 226/260\n",
      "242/242 [==============================] - 0s 87us/step - loss: 0.1325 - acc: 0.8471 - val_loss: 0.1284 - val_acc: 0.8525\n",
      "Epoch 227/260\n",
      "242/242 [==============================] - 0s 66us/step - loss: 0.1323 - acc: 0.8471 - val_loss: 0.1285 - val_acc: 0.8525\n",
      "Epoch 228/260\n",
      "242/242 [==============================] - 0s 58us/step - loss: 0.1321 - acc: 0.8471 - val_loss: 0.1284 - val_acc: 0.8525\n",
      "Epoch 229/260\n",
      "242/242 [==============================] - 0s 78us/step - loss: 0.1320 - acc: 0.8471 - val_loss: 0.1279 - val_acc: 0.8525\n",
      "Epoch 230/260\n",
      "242/242 [==============================] - 0s 74us/step - loss: 0.1317 - acc: 0.8471 - val_loss: 0.1276 - val_acc: 0.8525\n",
      "Epoch 231/260\n",
      "242/242 [==============================] - 0s 54us/step - loss: 0.1316 - acc: 0.8512 - val_loss: 0.1275 - val_acc: 0.8525\n",
      "Epoch 232/260\n",
      "242/242 [==============================] - 0s 50us/step - loss: 0.1314 - acc: 0.8512 - val_loss: 0.1273 - val_acc: 0.8525\n",
      "Epoch 233/260\n",
      "242/242 [==============================] - 0s 70us/step - loss: 0.1312 - acc: 0.8512 - val_loss: 0.1273 - val_acc: 0.8525\n",
      "Epoch 234/260\n",
      "242/242 [==============================] - 0s 54us/step - loss: 0.1311 - acc: 0.8512 - val_loss: 0.1271 - val_acc: 0.8525\n",
      "Epoch 235/260\n",
      "242/242 [==============================] - 0s 50us/step - loss: 0.1309 - acc: 0.8512 - val_loss: 0.1272 - val_acc: 0.8525\n",
      "Epoch 236/260\n",
      "242/242 [==============================] - 0s 66us/step - loss: 0.1308 - acc: 0.8512 - val_loss: 0.1273 - val_acc: 0.8525\n",
      "Epoch 237/260\n",
      "242/242 [==============================] - 0s 50us/step - loss: 0.1306 - acc: 0.8512 - val_loss: 0.1268 - val_acc: 0.8525\n",
      "Epoch 238/260\n",
      "242/242 [==============================] - 0s 54us/step - loss: 0.1304 - acc: 0.8471 - val_loss: 0.1264 - val_acc: 0.8525\n",
      "Epoch 239/260\n",
      "242/242 [==============================] - 0s 62us/step - loss: 0.1303 - acc: 0.8471 - val_loss: 0.1268 - val_acc: 0.8525\n",
      "Epoch 240/260\n",
      "242/242 [==============================] - 0s 58us/step - loss: 0.1301 - acc: 0.8512 - val_loss: 0.1267 - val_acc: 0.8525\n",
      "Epoch 241/260\n"
     ]
    },
    {
     "name": "stdout",
     "output_type": "stream",
     "text": [
      "242/242 [==============================] - 0s 54us/step - loss: 0.1299 - acc: 0.8471 - val_loss: 0.1270 - val_acc: 0.8525\n",
      "Epoch 242/260\n",
      "242/242 [==============================] - 0s 54us/step - loss: 0.1298 - acc: 0.8512 - val_loss: 0.1272 - val_acc: 0.8525\n",
      "Epoch 243/260\n",
      "242/242 [==============================] - 0s 70us/step - loss: 0.1297 - acc: 0.8512 - val_loss: 0.1267 - val_acc: 0.8525\n",
      "Epoch 244/260\n",
      "242/242 [==============================] - 0s 54us/step - loss: 0.1295 - acc: 0.8430 - val_loss: 0.1272 - val_acc: 0.8525\n",
      "Epoch 245/260\n",
      "242/242 [==============================] - 0s 58us/step - loss: 0.1293 - acc: 0.8430 - val_loss: 0.1269 - val_acc: 0.8525\n",
      "Epoch 246/260\n",
      "242/242 [==============================] - 0s 62us/step - loss: 0.1292 - acc: 0.8471 - val_loss: 0.1265 - val_acc: 0.8525\n",
      "Epoch 247/260\n",
      "242/242 [==============================] - 0s 54us/step - loss: 0.1292 - acc: 0.8471 - val_loss: 0.1257 - val_acc: 0.8525\n",
      "Epoch 248/260\n",
      "242/242 [==============================] - 0s 66us/step - loss: 0.1290 - acc: 0.8471 - val_loss: 0.1265 - val_acc: 0.8525\n",
      "Epoch 249/260\n",
      "242/242 [==============================] - 0s 78us/step - loss: 0.1288 - acc: 0.8471 - val_loss: 0.1266 - val_acc: 0.8525\n",
      "Epoch 250/260\n",
      "242/242 [==============================] - 0s 62us/step - loss: 0.1286 - acc: 0.8471 - val_loss: 0.1264 - val_acc: 0.8525\n",
      "Epoch 251/260\n",
      "242/242 [==============================] - 0s 66us/step - loss: 0.1284 - acc: 0.8471 - val_loss: 0.1259 - val_acc: 0.8525\n",
      "Epoch 252/260\n",
      "242/242 [==============================] - 0s 83us/step - loss: 0.1283 - acc: 0.8471 - val_loss: 0.1261 - val_acc: 0.8525\n",
      "Epoch 253/260\n",
      "242/242 [==============================] - 0s 74us/step - loss: 0.1281 - acc: 0.8471 - val_loss: 0.1260 - val_acc: 0.8525\n",
      "Epoch 254/260\n",
      "242/242 [==============================] - 0s 74us/step - loss: 0.1280 - acc: 0.8471 - val_loss: 0.1256 - val_acc: 0.8525\n",
      "Epoch 255/260\n",
      "242/242 [==============================] - 0s 70us/step - loss: 0.1278 - acc: 0.8471 - val_loss: 0.1252 - val_acc: 0.8525\n",
      "Epoch 256/260\n",
      "242/242 [==============================] - 0s 66us/step - loss: 0.1277 - acc: 0.8471 - val_loss: 0.1251 - val_acc: 0.8525\n",
      "Epoch 257/260\n",
      "242/242 [==============================] - 0s 70us/step - loss: 0.1276 - acc: 0.8471 - val_loss: 0.1249 - val_acc: 0.8525\n",
      "Epoch 258/260\n",
      "242/242 [==============================] - 0s 58us/step - loss: 0.1275 - acc: 0.8471 - val_loss: 0.1250 - val_acc: 0.8525\n",
      "Epoch 259/260\n",
      "242/242 [==============================] - 0s 54us/step - loss: 0.1273 - acc: 0.8430 - val_loss: 0.1257 - val_acc: 0.8361\n",
      "Epoch 260/260\n",
      "242/242 [==============================] - 0s 50us/step - loss: 0.1272 - acc: 0.8430 - val_loss: 0.1258 - val_acc: 0.8361\n"
     ]
    }
   ],
   "source": [
    "history = model.fit(data_training,target_training, validation_data=(data_testing,target_testing), epochs=260)"
   ]
  },
  {
   "cell_type": "markdown",
   "metadata": {},
   "source": [
    "# Evaluasi Model\n",
    "Setelah data di training, data dapat di-evaluasi. Melalui proses evaluasi model, hasil dari akurasi dapat dilihat."
   ]
  },
  {
   "cell_type": "code",
   "execution_count": 12,
   "metadata": {},
   "outputs": [
    {
     "name": "stdout",
     "output_type": "stream",
     "text": [
      "61/61 [==============================] - 0s 66us/step\n",
      "\n",
      "acc: 83.61%\n"
     ]
    }
   ],
   "source": [
    "scores = model.evaluate(data_testing, target_testing)\n",
    "print(\"\\n%s: %.2f%%\" % (model.metrics_names[1], scores[1]*100))"
   ]
  },
  {
   "cell_type": "markdown",
   "metadata": {},
   "source": [
    "## Visualilasi Proses Training\n",
    "Setelah data diatas telah ditraining, setiap Loss pada training dapat ditampilkan dalam grafik. Plot model itu sendiri terdiri dari 2, yaitu Model Akurasi dan Model Loss. "
   ]
  },
  {
   "cell_type": "code",
   "execution_count": 13,
   "metadata": {},
   "outputs": [
    {
     "data": {
      "image/png": "[encoded data removed]",
      "text/plain": [
       "<Figure size 432x288 with 1 Axes>"
      ]
     },
     "metadata": {
      "needs_background": "light"
     },
     "output_type": "display_data"
    }
   ],
   "source": [
    "import matplotlib.pyplot as plt\n",
    "\n",
    "plt.plot(history.history['acc'])\n",
    "plt.plot(history.history['val_acc'])\n",
    "plt.title('model accuracy')\n",
    "plt.ylabel('accuracy')\n",
    "plt.xlabel('epoch')\n",
    "plt.legend(['train', 'test'], loc='upper left')\n",
    "plt.show()"
   ]
  },
  {
   "cell_type": "code",
   "execution_count": 14,
   "metadata": {},
   "outputs": [
    {
     "name": "stdout",
     "output_type": "stream",
     "text": [
      "dict_keys(['val_loss', 'val_acc', 'loss', 'acc'])\n"
     ]
    }
   ],
   "source": [
    "print(history.history.keys())"
   ]
  },
  {
   "cell_type": "code",
   "execution_count": 15,
   "metadata": {},
   "outputs": [
    {
     "data": {
      "image/png": "[encoded data removed]",
      "text/plain": [
       "<Figure size 432x288 with 1 Axes>"
      ]
     },
     "metadata": {
      "needs_background": "light"
     },
     "output_type": "display_data"
    }
   ],
   "source": [
    "# summarize history for loss\n",
    "plt.plot(history.history['loss'])\n",
    "plt.plot(history.history['val_loss'])\n",
    "plt.title('model loss')\n",
    "plt.ylabel('loss')\n",
    "plt.xlabel('epoch')\n",
    "plt.legend(['train', 'test'], loc='upper left')\n",
    "plt.show()"
   ]
  },
  {
   "attachments": {
    "1%200exdQRxrXQgIBZdPFIxbTw.png": {
     "image/png": "[encoded data removed]"
    }
   },
   "cell_type": "markdown",
   "metadata": {},
   "source": [
    "## Confusion Matrix\n",
    "Fungsi untuk menghitung confusion matrix, dimana isi dari list confusion akan ditampung pada variabel TP, TN, FN, FP\n",
    "\n",
    "![1%200exdQRxrXQgIBZdPFIxbTw.png](attachment:1%200exdQRxrXQgIBZdPFIxbTw.png)"
   ]
  },
  {
   "cell_type": "code",
   "execution_count": 16,
   "metadata": {},
   "outputs": [],
   "source": [
    "prediction = model.predict_classes(data_testing)\n",
    "prediksi = pd.DataFrame(prediction)\n",
    "target_testing = pd.DataFrame(target_testing)"
   ]
  },
  {
   "cell_type": "code",
   "execution_count": 17,
   "metadata": {
    "scrolled": true
   },
   "outputs": [
    {
     "name": "stdout",
     "output_type": "stream",
     "text": [
      "[[26  3]\n",
      " [ 7 25]]\n"
     ]
    }
   ],
   "source": [
    "from sklearn.metrics import confusion_matrix\n",
    "cm = confusion_matrix(target_testing, prediction)\n",
    "print (cm)"
   ]
  },
  {
   "attachments": {
    "1%205XuZ_86Rfce3qyLt7XMlhw.png": {
     "image/png": "[encoded data removed]"
    }
   },
   "cell_type": "markdown",
   "metadata": {},
   "source": [
    "## Akurasi\n",
    "Akurasi adalah jumlah prediksi yang tepat yang dibuat oleh model dan prediksi yang telah dibuat.\n",
    "![1%205XuZ_86Rfce3qyLt7XMlhw.png](attachment:1%205XuZ_86Rfce3qyLt7XMlhw.png)"
   ]
  },
  {
   "cell_type": "code",
   "execution_count": 18,
   "metadata": {},
   "outputs": [
    {
     "data": {
      "text/plain": [
       "83.60655737704919"
      ]
     },
     "execution_count": 18,
     "metadata": {},
     "output_type": "execute_result"
    }
   ],
   "source": [
    "akurasi = ((cm[0,0]+cm[1,1])/(cm[0,0]+cm[0,1]+cm[1,0]+cm[1,1])*100)\n",
    "akurasi"
   ]
  },
  {
   "cell_type": "code",
   "execution_count": null,
   "metadata": {},
   "outputs": [],
   "source": []
  }
 ],
 "metadata": {
  "kernelspec": {
   "display_name": "Python 3",
   "language": "python",
   "name": "python3"
  },
  "language_info": {
   "codemirror_mode": {
    "name": "ipython",
    "version": 3
   },
   "file_extension": ".py",
   "mimetype": "text/x-python",
   "name": "python",
   "nbconvert_exporter": "python",
   "pygments_lexer": "ipython3",
   "version": "3.6.5"
  }
 },
 "nbformat": 4,
 "nbformat_minor": 2
}
